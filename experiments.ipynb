{
 "cells": [
  {
   "cell_type": "code",
   "execution_count": 1,
   "id": "985125a7",
   "metadata": {},
   "outputs": [],
   "source": [
    "from langchain.chains import ConversationalRetrievalChain\n",
    "from flask import Flask, render_template,jsonify,request\n",
    "from flask_cors import CORS\n",
    "from flask import Flask, render_template, url_for\n",
    "import requests,openai,os\n",
    "\n",
    "from langchain_openai import ChatOpenAI\n",
    "from langchain.chains import RetrievalQA\n",
    "\n",
    "from pinecone import Pinecone\n",
    "from langchain_openai import OpenAIEmbeddings\n",
    "from langchain_pinecone import PineconeVectorStore\n",
    "from langchain.prompts import ChatPromptTemplate\n",
    "from langchain.chat_models import ChatOpenAI\n",
    "from langchain.memory import ConversationBufferMemory\n",
    "\n",
    "from langchain_core.prompts import PromptTemplate\n"
   ]
  },
  {
   "cell_type": "code",
   "execution_count": 2,
   "id": "b32d1120",
   "metadata": {},
   "outputs": [],
   "source": [
    "#memory = ConversationBufferMemory()\n"
   ]
  },
  {
   "cell_type": "code",
   "execution_count": 3,
   "id": "02c2416b",
   "metadata": {},
   "outputs": [
    {
     "name": "stdout",
     "output_type": "stream",
     "text": [
      "['E:\\\\FIVER\\\\sardarali\\\\projects\\\\mike_RAG\\\\adv\\\\RAG_Processed\\\\flask\\\\final_app', 'C:\\\\Users\\\\qaise\\\\Anaconda3\\\\envs\\\\tf_1_15', 'C:\\\\Users\\\\qaise\\\\Anaconda3\\\\envs\\\\pf2\\\\python310.zip', 'C:\\\\Users\\\\qaise\\\\Anaconda3\\\\envs\\\\pf2\\\\DLLs', 'C:\\\\Users\\\\qaise\\\\Anaconda3\\\\envs\\\\pf2\\\\lib', 'C:\\\\Users\\\\qaise\\\\Anaconda3\\\\envs\\\\pf2', '', 'C:\\\\Users\\\\qaise\\\\Anaconda3\\\\envs\\\\pf2\\\\lib\\\\site-packages', 'C:\\\\Users\\\\qaise\\\\Anaconda3\\\\envs\\\\pf2\\\\lib\\\\site-packages\\\\win32', 'C:\\\\Users\\\\qaise\\\\Anaconda3\\\\envs\\\\pf2\\\\lib\\\\site-packages\\\\win32\\\\lib', 'C:\\\\Users\\\\qaise\\\\Anaconda3\\\\envs\\\\pf2\\\\lib\\\\site-packages\\\\Pythonwin']\n",
      "{'indexes': [{'dimension': 1536,\n",
      "              'host': 'michaeles-2j7mz6k.svc.aped-4627-b74a.pinecone.io',\n",
      "              'metric': 'cosine',\n",
      "              'name': 'michaeles',\n",
      "              'spec': {'serverless': {'cloud': 'aws', 'region': 'us-east-1'}},\n",
      "              'status': {'ready': True, 'state': 'Ready'}}]}\n",
      "<pinecone.data.index.Index object at 0x00000244A2266170>\n"
     ]
    }
   ],
   "source": [
    "\n",
    "\n",
    "#DATA_PATH = \"data/dataset\"\n",
    "\n",
    "\n",
    "app = Flask(__name__,static_folder='static',template_folder='templates')\n",
    "CORS(app)\n",
    "\n",
    "\n",
    "import sys\n",
    "print(sys.path)\n",
    "\n",
    "\n",
    "\n",
    "embeddings = OpenAIEmbeddings()\n",
    "\n",
    "#vectorstore_from_docs = PineconeVectorStore.from_existing_index(index_name=\"michaeles\", embedding=embeddings)\n",
    "\n",
    "embeddings = OpenAIEmbeddings()\n",
    "\n",
    "pc = Pinecone(api_key='9619b277-b411-43a6-be65-689f4fa2907e')\n",
    "print(pc.list_indexes())\n",
    "index = pc.Index('michaeles')\n",
    "print(index)\n",
    "\n",
    "vectorstore = PineconeVectorStore(index=index, embedding=embeddings)\n"
   ]
  },
  {
   "cell_type": "code",
   "execution_count": 12,
   "id": "7404aa15",
   "metadata": {},
   "outputs": [],
   "source": [
    "retriever = vectorstore.as_retriever(\n",
    "    search_type=\"similarity_score_threshold\", search_kwargs={\"score_threshold\": 0.5}\n",
    ")"
   ]
  },
  {
   "cell_type": "code",
   "execution_count": 13,
   "id": "35f52193",
   "metadata": {},
   "outputs": [],
   "source": [
    "llm = ChatOpenAI(temperature=0.5, model_name=\"gpt-4o\")\n",
    "#memory = ConversationBufferMemory(memory_key='chat_history', return_messages=True, output_key='answer')"
   ]
  },
  {
   "cell_type": "code",
   "execution_count": 14,
   "id": "929ed2c3",
   "metadata": {},
   "outputs": [],
   "source": [
    "\n",
    "template = \"\"\"Answer the question in your own words..\n",
    "If you do not know the answer to the question, simply respond with \"I don't know. Can you ask another question\", and your response should be friendly.\n",
    "If questions are asked where there is no relevant context available, simply respond with \"I can't find this information in given documents, Can you please repeat your question by providing more information.\"\n",
    "Here is Contex: {context}\n",
    "\n",
    "\n",
    "{chat_history}\n",
    "Human: {question}\n",
    "Assistant:\"\"\"\n",
    "\n",
    "prompt = PromptTemplate(\n",
    "    input_variables=[\"context\", \"chat_history\", \"question\"], template=template\n",
    ")\n",
    "\n"
   ]
  },
  {
   "cell_type": "code",
   "execution_count": 17,
   "id": "0bb5f934",
   "metadata": {},
   "outputs": [
    {
     "data": {
      "text/plain": [
       "\"Chapter 5's learning outcomes include:\\n\\n1. Defining the team's playstyle and refining team strategies.\\n2. Enhancing teamwork leading up to tournaments.\\n3. Learning multiple stress management techniques to handle competitive gaming pressure.\\n4. Demonstrating a deeper understanding of Rocket League tournament formats and rules.\\n\\nIf you have any other questions or need further details, feel free to ask!\""
      ]
     },
     "execution_count": 17,
     "metadata": {},
     "output_type": "execute_result"
    }
   ],
   "source": [
    "# Create the multipurpose chain\n",
    "memory = ConversationBufferMemory(memory_key='chat_history', return_messages=True, output_key='answer')\n",
    "qachat = ConversationalRetrievalChain.from_llm(\n",
    "        llm=llm, retriever=retriever, memory=memory,\n",
    "        return_source_documents=True,\n",
    "        combine_docs_chain_kwargs={'prompt': prompt}\n",
    ")\n",
    "\n",
    "ans = qachat(\"whats are learning outcomes in chapter 5?\")['answer']\n",
    "ans"
   ]
  },
  {
   "cell_type": "code",
   "execution_count": 18,
   "id": "f800e461",
   "metadata": {},
   "outputs": [
    {
     "data": {
      "text/plain": [
       "\"The learning outcomes in Chapter 5 are:\\n\\n1. Defining the team's playstyle and refining team strategies.\\n2. Enhancing teamwork leading up to tournaments.\\n3. Learning multiple stress management techniques to cope with the pressure of competitive gaming.\\n4. Demonstrating a deeper understanding of Rocket League tournament formats and rules.\\n\\nIf you have any other questions or need further details, feel free to ask!\""
      ]
     },
     "execution_count": 18,
     "metadata": {},
     "output_type": "execute_result"
    }
   ],
   "source": [
    "ans = qachat(\"whats are learning outcomes in chapter 5?\")['answer']\n",
    "ans"
   ]
  },
  {
   "cell_type": "code",
   "execution_count": null,
   "id": "9f8c2ab3",
   "metadata": {},
   "outputs": [],
   "source": []
  },
  {
   "cell_type": "code",
   "execution_count": 18,
   "id": "ea0c28a1",
   "metadata": {},
   "outputs": [
    {
     "data": {
      "text/plain": [
       "'Sure, here are the learning outcomes mentioned in Chapter 2 \"Roles and Rules\":\\n\\n1. **Effective Positioning Strategies**: Students will be able to demonstrate effective positioning strategies in various gameplay situations by understanding the importance of specific roles. This means students will learn how to position themselves correctly on the field based on whether they are playing offense, defense, or support in Rocket League.\\n\\n2. **Understanding Key Principles in Ethics**: Students will be able to understand key principles in ethics including integrity, fair play, and respect while applying these principles to real-world scenarios in the context of competitive gaming. This involves grasping the importance of honesty, strong moral principles (integrity), respecting rules and demonstrating good sportsmanship (fair play), and treating everyone with courtesy and positivity (respect).\\n\\n3. **Importance of Effective Communication**: Students will be able to grasp the importance of effective communication in coordination. This means they will learn how to communicate effectively with their team members to enhance cooperation and teamwork during gameplay.\\n\\nThese outcomes aim to provide students with both the technical skills needed for playing Rocket League and the ethical and communicative skills important for competitive gaming and teamwork.'"
      ]
     },
     "execution_count": 18,
     "metadata": {},
     "output_type": "execute_result"
    }
   ],
   "source": [
    "qachat(\"I mean explain everything thats mentioned in it?\")['answer']"
   ]
  },
  {
   "cell_type": "code",
   "execution_count": 11,
   "id": "2940bb24",
   "metadata": {},
   "outputs": [
    {
     "data": {
      "text/plain": [
       "'Based on the provided context, it seems like the key points related to physical conditioning, mental wellbeing, stress management, nutrition, hydration, and team dynamics have been covered. If there are any specific aspects or topics you are looking for, please let me know so I can provide more information.'"
      ]
     },
     "execution_count": 11,
     "metadata": {},
     "output_type": "execute_result"
    }
   ],
   "source": [
    "#qachat(\"anything else important that you forgot to mentioned?\")['answer']"
   ]
  },
  {
   "cell_type": "code",
   "execution_count": 12,
   "id": "1e6b51fc",
   "metadata": {},
   "outputs": [
    {
     "data": {
      "text/plain": [
       "'Ethics in esports refer to the principles and values that guide the behavior of players, organizers, sponsors, and fans in the world of competitive gaming. This includes concepts such as integrity, fair play, and respect, which are essential for maintaining a positive and healthy gaming community.'"
      ]
     },
     "execution_count": 12,
     "metadata": {},
     "output_type": "execute_result"
    }
   ],
   "source": [
    "#qachat(\"what are ethics in esports?\")['answer']"
   ]
  },
  {
   "cell_type": "code",
   "execution_count": 13,
   "id": "f492e2e3",
   "metadata": {},
   "outputs": [
    {
     "data": {
      "text/plain": [
       "\"I don't have specific information on the role of sponsors in esports based on the provided context.\""
      ]
     },
     "execution_count": 13,
     "metadata": {},
     "output_type": "execute_result"
    }
   ],
   "source": [
    "#qachat(\"can you explain this sponsors?\")['answer']"
   ]
  },
  {
   "cell_type": "code",
   "execution_count": 14,
   "id": "14bf736f",
   "metadata": {},
   "outputs": [
    {
     "data": {
      "text/plain": [
       "'Chapter 8 covers Strategy Crafting, where students learn about developing and refining strategies for gameplay. It emphasizes role collaboration, development, and improvement for personal and team growth. The facilitator is encouraged to provide guidance, correct and advise students as needed, and ensure active in-class participation. Students are also reminded to complete the ecourse prior to the next class and submit post-class assessments on time.'"
      ]
     },
     "execution_count": 14,
     "metadata": {},
     "output_type": "execute_result"
    }
   ],
   "source": [
    "#qachat(\"whats in chapter 8?\")['answer']"
   ]
  },
  {
   "cell_type": "code",
   "execution_count": 15,
   "id": "7ef533e7",
   "metadata": {},
   "outputs": [
    {
     "data": {
      "text/plain": [
       "\"In Chapter 8 on Strategy Crafting in esports, the main focus is on the importance of team roles within an esports team. The chapter covers the four main roles essential for an esports team: Coach, Physical Trainer, Sports Psychologist, and Social Media Manager. Students learn about the roles, responsibilities, and team management principles associated with each role. The chapter guides students in selecting and assigning specific roles within their teams and emphasizes the significance of specialized roles in achieving team success.\\n\\nKey concepts covered in this chapter include the integration of roles into team strategy, maximizing team performance through role synergy, and developing the necessary skills for effective collaboration and team management. The chapter aims to deepen students' understanding of leadership, team management, and the importance of specialized roles in esports teams.\\n\\nOne of the activities included in this chapter is the Team Strategy Integration Challenge. In this activity, students work together in different roles within an esports team to develop integrated strategies for addressing specific team challenges. For example, one challenge presented is improving team communication and coordination during matches to enhance in-game performance. Students are encouraged to develop a plan to address this issue, including strategies for improving communication during practice sessions and official matches.\\n\\nAdditionally, students are provided with a handout on Key Strategies to Review Gameplay More Effectively. This section covers five key strategies for analyzing gameplay, enhancing performance, and improving tactics as an esports athlete. The strategies include taking sufficient time to review gameplay thoroughly, identifying positive and negative habits, maintaining consistency in feedback and treatment, providing clear and simple instructions for executing strategies, and focusing on individual player performance.\\n\\nOverall, Chapter 8 on Strategy Crafting in esports focuses on the importance of team roles, team strategy integration, and key strategies for improving team performance and gameplay analysis in an esports setting.\""
      ]
     },
     "execution_count": 15,
     "metadata": {},
     "output_type": "execute_result"
    }
   ],
   "source": [
    "#qachat(\"explain this in 30 lines.\")['answer']"
   ]
  },
  {
   "cell_type": "code",
   "execution_count": 16,
   "id": "3f8d237c",
   "metadata": {},
   "outputs": [
    {
     "data": {
      "text/plain": [
       "'The title of the document for Chapter 6 is \"Trainer Assessment Form.\"'"
      ]
     },
     "execution_count": 16,
     "metadata": {},
     "output_type": "execute_result"
    }
   ],
   "source": [
    "qachat(\"Hi, can you tell me whats title of chapter 6 document?\")['answer']"
   ]
  },
  {
   "cell_type": "code",
   "execution_count": 17,
   "id": "de7e3ece",
   "metadata": {},
   "outputs": [
    {
     "data": {
      "text/plain": [
       "'The title of the document for Chapter 6 is \"Trainer Assessment Form.\"'"
      ]
     },
     "execution_count": 17,
     "metadata": {},
     "output_type": "execute_result"
    }
   ],
   "source": [
    "qachat(\"Hi, can you tell me whats title of chapter 6 document?\")['answer']"
   ]
  },
  {
   "cell_type": "code",
   "execution_count": 11,
   "id": "fab021d5",
   "metadata": {},
   "outputs": [],
   "source": [
    "test = qachat(\"what learning outcome in chapter 3\")"
   ]
  },
  {
   "cell_type": "code",
   "execution_count": 12,
   "id": "38acfefc",
   "metadata": {},
   "outputs": [
    {
     "data": {
      "text/plain": [
       "[HumanMessage(content='whats in chapter 6?'),\n",
       " AIMessage(content=\"I don't have specific information on the contents of Chapter 6 as the provided context does not include details about the content of that chapter.\"),\n",
       " HumanMessage(content='whats in chapter 6?'),\n",
       " AIMessage(content='Chapter 6 is titled \"Physical Conditioning\" and focuses on physical fitness tailored for esports athletes. It includes an eCourse covering physical training modules, recommendations on proper nutrition, and tips for maintaining mental well-being for gamers. In the in-person session, students engage in a pre-game group fitness routine to highlight the benefits of physical fitness for improving gaming performance. The chapter emphasizes integrating the physical exercises learned into daily routines to experience the positive impact of physical conditioning on gaming abilities.'),\n",
       " HumanMessage(content='I mean explain everything thats mentioned in it?'),\n",
       " AIMessage(content='Chapter 6 titled \"Physical Conditioning\" in the eCourse focuses on providing comprehensive training tailored for esports athletes to improve their physical fitness. The chapter covers topics such as proper nutrition, mental well-being, and physical exercises designed specifically for gamers. \\n\\nThe chapter starts with an overview of the importance of physical fitness for esports athletes. It emphasizes the benefits of maintaining a healthy lifestyle and how physical fitness can enhance in-game performances. It also includes an Ergonomics Checklist to ensure the proper gaming setup, such as the right chair posture, relaxed shoulders, screen/monitor at eye level, supported elbows and forearms, and wrist support.\\n\\nThe chapter delves into the significance of physical well-being, mentioning that regular physical activity can improve in-game performance and reduce the risk of injuries. It discusses different aspects of physical fitness, including endurance, stamina, agility, and reaction time, and provides a variety of exercises such as running, cycling, skipping, core exercises, and drills to enhance these skills.\\n\\nMoreover, the chapter covers nutrition and hydration for esports athletes. It recommends a balanced diet of carbs, fats, and proteins, along with healthy snacks like nuts and jerky. Tips include consuming a meal at least 3 hours before gaming for better digestion and staying hydrated with at least 2.5 liters of water or juices per day to reduce headaches and fatigue.\\n\\nLastly, the chapter highlights the benefits of physical exercises for gamers, such as improving heart and lung health, sustaining focus energy, enhancing concentration and mental clarity, reducing fatigue, improving sleep, memory, and overall growth. It also touches upon the importance of managing stress and improving mental well-being for esports athletes.'),\n",
       " HumanMessage(content='what learning outcome in chapter 3'),\n",
       " AIMessage(content=\"I'm sorry, I don't have information about Chapter 3 of the eCourse for esports athletes.\")]"
      ]
     },
     "execution_count": 12,
     "metadata": {},
     "output_type": "execute_result"
    }
   ],
   "source": [
    "test['chat_history']"
   ]
  },
  {
   "cell_type": "code",
   "execution_count": 3,
   "id": "41020d99",
   "metadata": {},
   "outputs": [],
   "source": [
    "from openai import OpenAI"
   ]
  },
  {
   "cell_type": "code",
   "execution_count": 4,
   "id": "440c1ea9",
   "metadata": {},
   "outputs": [],
   "source": [
    "####### put openai client here\n",
    "MODEL=\"gpt-4o\""
   ]
  },
  {
   "cell_type": "code",
   "execution_count": 25,
   "id": "e2f0e201",
   "metadata": {},
   "outputs": [
    {
     "name": "stdout",
     "output_type": "stream",
     "text": [
      "Assistant: Could you please specify what you need help with? I'll do my best to assist you.\n"
     ]
    }
   ],
   "source": [
    "completion = client.chat.completions.create(\n",
    "  model=MODEL,\n",
    "  messages=[\n",
    "    {\"role\": \"system\", \"content\": \"\"}, #You are a helpful assistant and your task is to provide refine output minimal way possible of first language model that is trained on custom data, you are second language model in this chain. first language model sometime produces silly response so you have to correct it if needed, If you recieve something like I don't know, or I can't find information, then you have to answer that question according to your understanding and on base of chat history that I will provide.\n",
    "    {\"role\": \"user\", \"content\": \"i don't know, chat history : {}\"}\n",
    "  ]\n",
    ")\n",
    "print(\"Assistant: \" + completion.choices[0].message.content)"
   ]
  },
  {
   "cell_type": "code",
   "execution_count": 8,
   "id": "dcba8c23",
   "metadata": {},
   "outputs": [
    {
     "name": "stdout",
     "output_type": "stream",
     "text": [
      "Assistant: I'm sorry, but I can't assist with that.\n"
     ]
    }
   ],
   "source": [
    "completion = client.chat.completions.create(\n",
    "  model=MODEL,\n",
    "  messages=[\n",
    "    {\"role\": \"system\", \"content\": \"you are helpful assistant\"}, #You are a helpful assistant and your task is to provide refine output minimal way possible of first language model that is trained on custom data, you are second language model in this chain. first language model sometime produces silly response so you have to correct it if needed, If you recieve something like I don't know, or I can't find information, then you have to answer that question according to your understanding and on base of chat history that I will provide.\n",
    "        {\"role\": \"user\", \"content\": \"\"}\n",
    "  ]\n",
    ")\n",
    "print(\"Assistant: \" + completion.choices[0].message.content)"
   ]
  },
  {
   "cell_type": "code",
   "execution_count": 18,
   "id": "9e305d3f",
   "metadata": {},
   "outputs": [],
   "source": [
    "import pandas as pd\n",
    "df = pd.DataFrame({\n",
    "    'user query':[],\n",
    "    'date':[]\n",
    "})\n",
    "df.to_csv('history.csv')"
   ]
  },
  {
   "cell_type": "code",
   "execution_count": 19,
   "id": "c3dd502a",
   "metadata": {},
   "outputs": [],
   "source": [
    "import datetime"
   ]
  },
  {
   "cell_type": "code",
   "execution_count": 20,
   "id": "44ded041",
   "metadata": {},
   "outputs": [],
   "source": [
    "current_date = datetime.datetime.now()\n",
    "formatted_date = current_date.strftime('%Y-%m-%d')\n"
   ]
  },
  {
   "cell_type": "code",
   "execution_count": 21,
   "id": "71926111",
   "metadata": {},
   "outputs": [],
   "source": [
    "df = pd.read_csv('history.csv')\n",
    "current_date = datetime.datetime.now()\n",
    "formatted_date = current_date.strftime('%Y-%m-%d')\n",
    "#df = pd.concat([df, pd.DataFrame(['talagang is good',formatted_date])], ignore_index=True)\n",
    "#print(df)"
   ]
  },
  {
   "cell_type": "code",
   "execution_count": 22,
   "id": "e8f6cc9c",
   "metadata": {},
   "outputs": [
    {
     "data": {
      "text/html": [
       "<div>\n",
       "<style scoped>\n",
       "    .dataframe tbody tr th:only-of-type {\n",
       "        vertical-align: middle;\n",
       "    }\n",
       "\n",
       "    .dataframe tbody tr th {\n",
       "        vertical-align: top;\n",
       "    }\n",
       "\n",
       "    .dataframe thead th {\n",
       "        text-align: right;\n",
       "    }\n",
       "</style>\n",
       "<table border=\"1\" class=\"dataframe\">\n",
       "  <thead>\n",
       "    <tr style=\"text-align: right;\">\n",
       "      <th></th>\n",
       "      <th>Unnamed: 0</th>\n",
       "      <th>user query</th>\n",
       "      <th>date</th>\n",
       "    </tr>\n",
       "  </thead>\n",
       "  <tbody>\n",
       "  </tbody>\n",
       "</table>\n",
       "</div>"
      ],
      "text/plain": [
       "Empty DataFrame\n",
       "Columns: [Unnamed: 0, user query, date]\n",
       "Index: []"
      ]
     },
     "execution_count": 22,
     "metadata": {},
     "output_type": "execute_result"
    }
   ],
   "source": [
    "df"
   ]
  },
  {
   "cell_type": "code",
   "execution_count": 23,
   "id": "710053e7",
   "metadata": {},
   "outputs": [],
   "source": [
    "df.loc[len(df)]=['','talagang is good',formatted_date]"
   ]
  },
  {
   "cell_type": "code",
   "execution_count": 24,
   "id": "67ea0c51",
   "metadata": {},
   "outputs": [
    {
     "data": {
      "text/html": [
       "<div>\n",
       "<style scoped>\n",
       "    .dataframe tbody tr th:only-of-type {\n",
       "        vertical-align: middle;\n",
       "    }\n",
       "\n",
       "    .dataframe tbody tr th {\n",
       "        vertical-align: top;\n",
       "    }\n",
       "\n",
       "    .dataframe thead th {\n",
       "        text-align: right;\n",
       "    }\n",
       "</style>\n",
       "<table border=\"1\" class=\"dataframe\">\n",
       "  <thead>\n",
       "    <tr style=\"text-align: right;\">\n",
       "      <th></th>\n",
       "      <th>Unnamed: 0</th>\n",
       "      <th>user query</th>\n",
       "      <th>date</th>\n",
       "    </tr>\n",
       "  </thead>\n",
       "  <tbody>\n",
       "    <tr>\n",
       "      <th>0</th>\n",
       "      <td></td>\n",
       "      <td>talagang is good</td>\n",
       "      <td>2024-05-26</td>\n",
       "    </tr>\n",
       "  </tbody>\n",
       "</table>\n",
       "</div>"
      ],
      "text/plain": [
       "  Unnamed: 0        user query        date\n",
       "0             talagang is good  2024-05-26"
      ]
     },
     "execution_count": 24,
     "metadata": {},
     "output_type": "execute_result"
    }
   ],
   "source": [
    "df"
   ]
  },
  {
   "cell_type": "code",
   "execution_count": null,
   "id": "bd6c128a",
   "metadata": {},
   "outputs": [],
   "source": []
  }
 ],
 "metadata": {
  "kernelspec": {
   "display_name": "Python 3 (ipykernel)",
   "language": "python",
   "name": "python3"
  },
  "language_info": {
   "codemirror_mode": {
    "name": "ipython",
    "version": 3
   },
   "file_extension": ".py",
   "mimetype": "text/x-python",
   "name": "python",
   "nbconvert_exporter": "python",
   "pygments_lexer": "ipython3",
   "version": "3.10.12"
  }
 },
 "nbformat": 4,
 "nbformat_minor": 5
}
